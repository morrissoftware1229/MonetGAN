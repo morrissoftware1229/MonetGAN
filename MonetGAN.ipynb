{
 "cells": [
  {
   "cell_type": "code",
   "execution_count": 2,
   "metadata": {},
   "outputs": [
    {
     "name": "stdout",
     "output_type": "stream",
     "text": [
      "Requirement already satisfied: opencv-contrib-python in c:\\users\\morri\\appdata\\local\\programs\\python\\python311\\lib\\site-packages (4.8.1.78)\n",
      "Requirement already satisfied: Pillow in c:\\users\\morri\\appdata\\local\\programs\\python\\python311\\lib\\site-packages (10.1.0)\n",
      "Requirement already satisfied: matplotlib in c:\\users\\morri\\appdata\\local\\programs\\python\\python311\\lib\\site-packages (3.8.2)\n",
      "Requirement already satisfied: torch in c:\\users\\morri\\appdata\\local\\programs\\python\\python311\\lib\\site-packages (2.1.1)\n",
      "Collecting torchvision\n",
      "  Using cached torchvision-0.16.1-cp311-cp311-win_amd64.whl.metadata (6.6 kB)\n",
      "Requirement already satisfied: numpy>=1.21.2 in c:\\users\\morri\\appdata\\local\\programs\\python\\python311\\lib\\site-packages (from opencv-contrib-python) (1.24.2)\n",
      "Requirement already satisfied: contourpy>=1.0.1 in c:\\users\\morri\\appdata\\local\\programs\\python\\python311\\lib\\site-packages (from matplotlib) (1.2.0)\n",
      "Requirement already satisfied: cycler>=0.10 in c:\\users\\morri\\appdata\\local\\programs\\python\\python311\\lib\\site-packages (from matplotlib) (0.12.1)\n",
      "Requirement already satisfied: fonttools>=4.22.0 in c:\\users\\morri\\appdata\\local\\programs\\python\\python311\\lib\\site-packages (from matplotlib) (4.45.1)\n",
      "Requirement already satisfied: kiwisolver>=1.3.1 in c:\\users\\morri\\appdata\\local\\programs\\python\\python311\\lib\\site-packages (from matplotlib) (1.4.5)\n",
      "Requirement already satisfied: packaging>=20.0 in c:\\users\\morri\\appdata\\local\\programs\\python\\python311\\lib\\site-packages (from matplotlib) (23.0)\n",
      "Requirement already satisfied: pyparsing>=2.3.1 in c:\\users\\morri\\appdata\\local\\programs\\python\\python311\\lib\\site-packages (from matplotlib) (3.0.9)\n",
      "Requirement already satisfied: python-dateutil>=2.7 in c:\\users\\morri\\appdata\\local\\programs\\python\\python311\\lib\\site-packages (from matplotlib) (2.8.2)\n",
      "Requirement already satisfied: filelock in c:\\users\\morri\\appdata\\local\\programs\\python\\python311\\lib\\site-packages (from torch) (3.13.1)\n",
      "Requirement already satisfied: typing-extensions in c:\\users\\morri\\appdata\\local\\programs\\python\\python311\\lib\\site-packages (from torch) (4.8.0)\n",
      "Requirement already satisfied: sympy in c:\\users\\morri\\appdata\\local\\programs\\python\\python311\\lib\\site-packages (from torch) (1.12)\n",
      "Requirement already satisfied: networkx in c:\\users\\morri\\appdata\\local\\programs\\python\\python311\\lib\\site-packages (from torch) (3.2.1)\n",
      "Requirement already satisfied: jinja2 in c:\\users\\morri\\appdata\\local\\programs\\python\\python311\\lib\\site-packages (from torch) (3.1.2)\n",
      "Requirement already satisfied: fsspec in c:\\users\\morri\\appdata\\local\\programs\\python\\python311\\lib\\site-packages (from torch) (2023.10.0)\n",
      "Requirement already satisfied: requests in c:\\users\\morri\\appdata\\local\\programs\\python\\python311\\lib\\site-packages (from torchvision) (2.28.2)\n",
      "Requirement already satisfied: six>=1.5 in c:\\users\\morri\\appdata\\local\\programs\\python\\python311\\lib\\site-packages (from python-dateutil>=2.7->matplotlib) (1.16.0)\n",
      "Requirement already satisfied: MarkupSafe>=2.0 in c:\\users\\morri\\appdata\\local\\programs\\python\\python311\\lib\\site-packages (from jinja2->torch) (2.1.3)\n",
      "Requirement already satisfied: charset-normalizer<4,>=2 in c:\\users\\morri\\appdata\\local\\programs\\python\\python311\\lib\\site-packages (from requests->torchvision) (3.0.1)\n",
      "Requirement already satisfied: idna<4,>=2.5 in c:\\users\\morri\\appdata\\local\\programs\\python\\python311\\lib\\site-packages (from requests->torchvision) (3.4)\n",
      "Requirement already satisfied: urllib3<1.27,>=1.21.1 in c:\\users\\morri\\appdata\\local\\programs\\python\\python311\\lib\\site-packages (from requests->torchvision) (1.26.14)\n",
      "Requirement already satisfied: certifi>=2017.4.17 in c:\\users\\morri\\appdata\\local\\programs\\python\\python311\\lib\\site-packages (from requests->torchvision) (2022.12.7)\n",
      "Requirement already satisfied: mpmath>=0.19 in c:\\users\\morri\\appdata\\local\\programs\\python\\python311\\lib\\site-packages (from sympy->torch) (1.3.0)\n",
      "Using cached torchvision-0.16.1-cp311-cp311-win_amd64.whl (1.1 MB)\n",
      "Installing collected packages: torchvision\n",
      "Successfully installed torchvision-0.16.1\n",
      "Note: you may need to restart the kernel to use updated packages.\n"
     ]
    },
    {
     "name": "stderr",
     "output_type": "stream",
     "text": [
      "\n",
      "[notice] A new release of pip is available: 23.3 -> 23.3.1\n",
      "[notice] To update, run: python.exe -m pip install --upgrade pip\n"
     ]
    }
   ],
   "source": [
    "pip install opencv-contrib-python Pillow matplotlib torch torchvision"
   ]
  },
  {
   "cell_type": "code",
   "execution_count": 3,
   "metadata": {},
   "outputs": [
    {
     "name": "stderr",
     "output_type": "stream",
     "text": [
      "c:\\Users\\morri\\AppData\\Local\\Programs\\Python\\Python311\\Lib\\site-packages\\tqdm\\auto.py:21: TqdmWarning: IProgress not found. Please update jupyter and ipywidgets. See https://ipywidgets.readthedocs.io/en/stable/user_install.html\n",
      "  from .autonotebook import tqdm as notebook_tqdm\n"
     ]
    }
   ],
   "source": [
    "import os\n",
    "import cv2\n",
    "import torch\n",
    "import torch.nn as nn\n",
    "import numpy as np\n",
    "from PIL import Image\n",
    "import shutil\n",
    "import itertools\n",
    "from torch.utils.data import Dataset, DataLoader\n",
    "import matplotlib.pyplot as plt\n",
    "import torchvision.transforms as transforms\n",
    "from torchvision.utils import make_grid"
   ]
  },
  {
   "cell_type": "code",
   "execution_count": 13,
   "metadata": {},
   "outputs": [],
   "source": [
    "BATCH_SIZE = 5\n",
    "MONET_IMAGES_PATH = \"https://www.kaggle.com/competitions/gan-getting-started/data/monet_jpg\"\n",
    "TEST_IMAGES_PATH = \"https://www.kaggle.com/competitions/gan-getting-started/data/photo_jpg\"\n",
    "\n",
    "lr = 0.0001\n",
    "beta1 = 0.5\n",
    "beta2 = 0.996\n",
    "n_epoches = 90\n",
    "decay_epoch = 40\n",
    "display_epoch = 25"
   ]
  },
  {
   "cell_type": "code",
   "execution_count": 14,
   "metadata": {},
   "outputs": [],
   "source": [
    "transforms_dataset = transforms.Compose([\n",
    "    transforms.RandomHorizontalFlip(),\n",
    "    transforms.ToTensor(),\n",
    "    transforms.Normalize((0.5, 0.5, 0.5), (0.5, 0.5, 0.5))\n",
    "])"
   ]
  },
  {
   "cell_type": "code",
   "execution_count": 15,
   "metadata": {},
   "outputs": [],
   "source": [
    "class ImageDataset(Dataset):\n",
    "    def __init__(self, directory_x, directory_y, test=False, transforms=None):\n",
    "        self.transforms = transforms\n",
    "        \n",
    "        if test:\n",
    "            self.monet_images_X = [directory_x + \"/\" + name for name in sorted(os.listdir(directory_x))[250:]]\n",
    "            self.test_images_Y = [directory_y + \"/\" + name for name in sorted(os.listdir(directory_y))[250:301]]\n",
    "        else:\n",
    "            self.monet_images_X = [directory_x + \"/\" + name for name in sorted(os.listdir(directory_x))[:250]]\n",
    "            self.test_images_Y = [directory_y + \"/\" + name for name in sorted(os.listdir(directory_y))[:250]]\n",
    "        \n",
    "    def __len__(self):\n",
    "        return len(self.monet_images_X)\n",
    "    \n",
    "    def __getitem__(self, index):\n",
    "        x_img =  Image.open(self.monet_images_X[index])\n",
    "        y_img =  Image.open(self.test_images_Y[index])\n",
    "\n",
    "        if self.transforms is not None:\n",
    "            x_img = self.transforms(x_img)\n",
    "            y_img = self.transforms(y_img)\n",
    "        return x_img, y_img"
   ]
  },
  {
   "cell_type": "code",
   "execution_count": 16,
   "metadata": {},
   "outputs": [
    {
     "ename": "OSError",
     "evalue": "[WinError 123] The filename, directory name, or volume label syntax is incorrect: 'https://www.kaggle.com/competitions/gan-getting-started/data/monet_jpg'",
     "output_type": "error",
     "traceback": [
      "\u001b[1;31m---------------------------------------------------------------------------\u001b[0m",
      "\u001b[1;31mOSError\u001b[0m                                   Traceback (most recent call last)",
      "\u001b[1;32mc:\\Users\\morri\\source\\repos\\MonetGAN\\MonetGAN.ipynb Cell 6\u001b[0m line \u001b[0;36m2\n\u001b[0;32m      <a href='vscode-notebook-cell:/c%3A/Users/morri/source/repos/MonetGAN/MonetGAN.ipynb#W5sZmlsZQ%3D%3D?line=0'>1</a>\u001b[0m train_loader \u001b[39m=\u001b[39m DataLoader(\n\u001b[1;32m----> <a href='vscode-notebook-cell:/c%3A/Users/morri/source/repos/MonetGAN/MonetGAN.ipynb#W5sZmlsZQ%3D%3D?line=1'>2</a>\u001b[0m     ImageDataset(directory_x\u001b[39m=\u001b[39;49mMONET_IMAGES_PATH, directory_y\u001b[39m=\u001b[39;49mTEST_IMAGES_PATH, test\u001b[39m=\u001b[39;49m\u001b[39mFalse\u001b[39;49;00m, transforms\u001b[39m=\u001b[39;49mtransforms_dataset),\n\u001b[0;32m      <a href='vscode-notebook-cell:/c%3A/Users/morri/source/repos/MonetGAN/MonetGAN.ipynb#W5sZmlsZQ%3D%3D?line=2'>3</a>\u001b[0m     batch_size \u001b[39m=\u001b[39m BATCH_SIZE,\n\u001b[0;32m      <a href='vscode-notebook-cell:/c%3A/Users/morri/source/repos/MonetGAN/MonetGAN.ipynb#W5sZmlsZQ%3D%3D?line=3'>4</a>\u001b[0m     shuffle \u001b[39m=\u001b[39m \u001b[39mTrue\u001b[39;00m,\n\u001b[0;32m      <a href='vscode-notebook-cell:/c%3A/Users/morri/source/repos/MonetGAN/MonetGAN.ipynb#W5sZmlsZQ%3D%3D?line=4'>5</a>\u001b[0m     num_workers \u001b[39m=\u001b[39m \u001b[39m3\u001b[39m\n\u001b[0;32m      <a href='vscode-notebook-cell:/c%3A/Users/morri/source/repos/MonetGAN/MonetGAN.ipynb#W5sZmlsZQ%3D%3D?line=5'>6</a>\u001b[0m )\n\u001b[0;32m      <a href='vscode-notebook-cell:/c%3A/Users/morri/source/repos/MonetGAN/MonetGAN.ipynb#W5sZmlsZQ%3D%3D?line=7'>8</a>\u001b[0m test_loader \u001b[39m=\u001b[39m DataLoader(\n\u001b[0;32m      <a href='vscode-notebook-cell:/c%3A/Users/morri/source/repos/MonetGAN/MonetGAN.ipynb#W5sZmlsZQ%3D%3D?line=8'>9</a>\u001b[0m     ImageDataset(directory_x\u001b[39m=\u001b[39mMONET_IMAGES_PATH, directory_y\u001b[39m=\u001b[39mTEST_IMAGES_PATH, test\u001b[39m=\u001b[39m\u001b[39mTrue\u001b[39;00m, transforms\u001b[39m=\u001b[39mtransforms_dataset),\n\u001b[0;32m     <a href='vscode-notebook-cell:/c%3A/Users/morri/source/repos/MonetGAN/MonetGAN.ipynb#W5sZmlsZQ%3D%3D?line=9'>10</a>\u001b[0m     batch_size \u001b[39m=\u001b[39m BATCH_SIZE,\n\u001b[0;32m     <a href='vscode-notebook-cell:/c%3A/Users/morri/source/repos/MonetGAN/MonetGAN.ipynb#W5sZmlsZQ%3D%3D?line=10'>11</a>\u001b[0m     shuffle \u001b[39m=\u001b[39m \u001b[39mFalse\u001b[39;00m,\n\u001b[0;32m     <a href='vscode-notebook-cell:/c%3A/Users/morri/source/repos/MonetGAN/MonetGAN.ipynb#W5sZmlsZQ%3D%3D?line=11'>12</a>\u001b[0m     num_workers \u001b[39m=\u001b[39m \u001b[39m3\u001b[39m\n\u001b[0;32m     <a href='vscode-notebook-cell:/c%3A/Users/morri/source/repos/MonetGAN/MonetGAN.ipynb#W5sZmlsZQ%3D%3D?line=12'>13</a>\u001b[0m )\n",
      "\u001b[1;32mc:\\Users\\morri\\source\\repos\\MonetGAN\\MonetGAN.ipynb Cell 6\u001b[0m line \u001b[0;36m9\n\u001b[0;32m      <a href='vscode-notebook-cell:/c%3A/Users/morri/source/repos/MonetGAN/MonetGAN.ipynb#W5sZmlsZQ%3D%3D?line=6'>7</a>\u001b[0m     \u001b[39mself\u001b[39m\u001b[39m.\u001b[39mtest_images_Y \u001b[39m=\u001b[39m [directory_y \u001b[39m+\u001b[39m \u001b[39m\"\u001b[39m\u001b[39m/\u001b[39m\u001b[39m\"\u001b[39m \u001b[39m+\u001b[39m name \u001b[39mfor\u001b[39;00m name \u001b[39min\u001b[39;00m \u001b[39msorted\u001b[39m(os\u001b[39m.\u001b[39mlistdir(directory_y))[\u001b[39m250\u001b[39m:\u001b[39m301\u001b[39m]]\n\u001b[0;32m      <a href='vscode-notebook-cell:/c%3A/Users/morri/source/repos/MonetGAN/MonetGAN.ipynb#W5sZmlsZQ%3D%3D?line=7'>8</a>\u001b[0m \u001b[39melse\u001b[39;00m:\n\u001b[1;32m----> <a href='vscode-notebook-cell:/c%3A/Users/morri/source/repos/MonetGAN/MonetGAN.ipynb#W5sZmlsZQ%3D%3D?line=8'>9</a>\u001b[0m     \u001b[39mself\u001b[39m\u001b[39m.\u001b[39mmonet_images_X \u001b[39m=\u001b[39m [directory_x \u001b[39m+\u001b[39m \u001b[39m\"\u001b[39m\u001b[39m/\u001b[39m\u001b[39m\"\u001b[39m \u001b[39m+\u001b[39m name \u001b[39mfor\u001b[39;00m name \u001b[39min\u001b[39;00m \u001b[39msorted\u001b[39m(os\u001b[39m.\u001b[39;49mlistdir(directory_x))[:\u001b[39m250\u001b[39m]]\n\u001b[0;32m     <a href='vscode-notebook-cell:/c%3A/Users/morri/source/repos/MonetGAN/MonetGAN.ipynb#W5sZmlsZQ%3D%3D?line=9'>10</a>\u001b[0m     \u001b[39mself\u001b[39m\u001b[39m.\u001b[39mtest_images_Y \u001b[39m=\u001b[39m [directory_y \u001b[39m+\u001b[39m \u001b[39m\"\u001b[39m\u001b[39m/\u001b[39m\u001b[39m\"\u001b[39m \u001b[39m+\u001b[39m name \u001b[39mfor\u001b[39;00m name \u001b[39min\u001b[39;00m \u001b[39msorted\u001b[39m(os\u001b[39m.\u001b[39mlistdir(directory_y))[:\u001b[39m250\u001b[39m]]\n",
      "\u001b[1;31mOSError\u001b[0m: [WinError 123] The filename, directory name, or volume label syntax is incorrect: 'https://www.kaggle.com/competitions/gan-getting-started/data/monet_jpg'"
     ]
    }
   ],
   "source": [
    "train_loader = DataLoader(\n",
    "    ImageDataset(directory_x=MONET_IMAGES_PATH, directory_y=TEST_IMAGES_PATH, test=False, transforms=transforms_dataset),\n",
    "    batch_size = BATCH_SIZE,\n",
    "    shuffle = True,\n",
    "    num_workers = 3\n",
    ")\n",
    "\n",
    "test_loader = DataLoader(\n",
    "    ImageDataset(directory_x=MONET_IMAGES_PATH, directory_y=TEST_IMAGES_PATH, test=True, transforms=transforms_dataset),\n",
    "    batch_size = BATCH_SIZE,\n",
    "    shuffle = False,\n",
    "    num_workers = 3\n",
    ")"
   ]
  }
 ],
 "metadata": {
  "kernelspec": {
   "display_name": "Python 3",
   "language": "python",
   "name": "python3"
  },
  "language_info": {
   "codemirror_mode": {
    "name": "ipython",
    "version": 3
   },
   "file_extension": ".py",
   "mimetype": "text/x-python",
   "name": "python",
   "nbconvert_exporter": "python",
   "pygments_lexer": "ipython3",
   "version": "3.11.2"
  }
 },
 "nbformat": 4,
 "nbformat_minor": 2
}
